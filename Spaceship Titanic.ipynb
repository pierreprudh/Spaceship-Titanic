{
 "cells": [
  {
   "attachments": {},
   "cell_type": "markdown",
   "metadata": {},
   "source": [
    "\n",
    "<div style=\"background-image: linear-gradient(to right, #4b4cff , #00d4ff); text-align: center; padding: 50px;\">\n",
    "  <h1 style=\"font-family: 'Segoe UI', Tahoma, Geneva, Verdana, sans-serif; font-size: 48px; color: white; text-shadow: 2px 2px #4b4cff;\">\n",
    "  Spaceship Titanic\n",
    "  </h1>\n",
    "</div>"
   ]
  },
  {
   "attachments": {},
   "cell_type": "markdown",
   "metadata": {},
   "source": [
    "<h2 style=\"color:#f7ce5b; font-family: Arial, sans-serif; font-size: 40px; margin-top: 50px; border-bottom: 2px solid #f7ce5b;\">\n",
    "Library\n",
    "</h2>"
   ]
  },
  {
   "cell_type": "code",
   "execution_count": null,
   "metadata": {},
   "outputs": [],
   "source": [
    "import pandas as pd \n",
    "import numpy as np \n",
    "import matplotlib\n",
    "import seaborn as sns\n",
    "import sklearn\n",
    "from sklearn.preprocessing import LabelEncoder\n",
    "from sklearn.model_selection import train_test_split"
   ]
  },
  {
   "attachments": {},
   "cell_type": "markdown",
   "metadata": {},
   "source": [
    "<h2 style=\"color:#f7ce5b; font-family: Arial, sans-serif; font-size: 40px; margin-top: 50px; border-bottom: 2px solid #f7ce5b;\">\n",
    "Data\n",
    "</h2>"
   ]
  },
  {
   "cell_type": "code",
   "execution_count": null,
   "metadata": {},
   "outputs": [],
   "source": [
    "data_train = pd.read_csv(\"train.csv\")\n",
    "\n",
    "data_test = pd.read_csv(\"test.csv\")\n",
    "data_train\n",
    "\n",
    "df = data_train.copy(deep=True)"
   ]
  },
  {
   "attachments": {},
   "cell_type": "markdown",
   "metadata": {},
   "source": [
    "<h2 style=\"color:#f7ce5b; font-family: Arial, sans-serif; font-size: 40px; margin-top: 50px; border-bottom: 2px solid #f7ce5b;\">\n",
    "First Regard\n",
    "</h2>"
   ]
  },
  {
   "cell_type": "code",
   "execution_count": null,
   "metadata": {},
   "outputs": [
    {
     "data": {
      "text/plain": [
       "PassengerId       0\n",
       "HomePlanet      201\n",
       "CryoSleep       217\n",
       "Cabin           199\n",
       "Destination     182\n",
       "Age             179\n",
       "VIP             203\n",
       "RoomService     181\n",
       "FoodCourt       183\n",
       "ShoppingMall    208\n",
       "Spa             183\n",
       "VRDeck          188\n",
       "Name            200\n",
       "Transported       0\n",
       "dtype: int64"
      ]
     },
     "execution_count": 153,
     "metadata": {},
     "output_type": "execute_result"
    }
   ],
   "source": [
    "data_train.isna().sum()"
   ]
  },
  {
   "attachments": {},
   "cell_type": "markdown",
   "metadata": {},
   "source": [
    "<h2 style=\"color:#f7ce5b; font-family: Arial, sans-serif; font-size: 40px; margin-top: 50px; border-bottom: 2px solid #f7ce5b;\">\n",
    "Data Treatment\n",
    "</h2>"
   ]
  },
  {
   "cell_type": "code",
   "execution_count": null,
   "metadata": {},
   "outputs": [],
   "source": [
    "# If passenger is in cryosleep then all the amenities are 0\n",
    "col_list = ['RoomService', 'FoodCourt', 'ShoppingMall', 'VRDeck','Spa']\n",
    "df.loc[df.CryoSleep.eq(True), col_list] = 0"
   ]
  },
  {
   "cell_type": "code",
   "execution_count": null,
   "metadata": {},
   "outputs": [],
   "source": [
    "# Where summ of amenities is 0 we also impute 0 for missing values\n",
    "zero_amenities = df[col_list].sum(axis=1).eq(0)\n",
    "df.loc[zero_amenities, col_list] = 0"
   ]
  },
  {
   "cell_type": "code",
   "execution_count": null,
   "metadata": {},
   "outputs": [],
   "source": [
    "# If the passenger is not in cryosleep then we put the median ofthe expenses of each amenitie for people not in cryosleep\n",
    "for i in col_list: \n",
    "    df.loc[df[i].isna(), i] = df.loc[df[i].gt(0), i].median()"
   ]
  },
  {
   "cell_type": "code",
   "execution_count": null,
   "metadata": {},
   "outputs": [],
   "source": [
    "#Summ of all the expenses\n",
    "df['Gold'] = df[col_list].sum(axis = 1)"
   ]
  },
  {
   "cell_type": "code",
   "execution_count": null,
   "metadata": {},
   "outputs": [],
   "source": [
    "## If Gold>0 and we don not know if he is in cryolseep then we set cryolseep to false\n",
    "df.loc[(df.CryoSleep.isna() & df.Gold.gt(0)), 'CryoSleep']=False"
   ]
  },
  {
   "cell_type": "code",
   "execution_count": null,
   "metadata": {},
   "outputs": [],
   "source": [
    "#in the data we have 3653 people with gold==0 and out of these 3653, about 3000 of the are in cryosleep which is about 83% so \n",
    "#we simulate a random distribuition where if it s greater than 0.83 it is not in cryosleep otherwise it is \n",
    "def fonct_cryo(x):\n",
    "    if x>=0.83:\n",
    "        return False\n",
    "    return True\n",
    "\n",
    "df.loc[(df.CryoSleep.isna()& df.Gold==0),'CryoSleep']=fonct_cryo(np.random.random())"
   ]
  },
  {
   "cell_type": "code",
   "execution_count": null,
   "metadata": {},
   "outputs": [
    {
     "data": {
      "text/plain": [
       "HomePlanet  Destination    VIP  \n",
       "Earth       55 Cancri e    False     668\n",
       "            PSO J318.5-22  False     693\n",
       "            TRAPPIST-1e    False    3030\n",
       "Europa      55 Cancri e    False     807\n",
       "                           True       63\n",
       "            PSO J318.5-22  True       10\n",
       "                           False       9\n",
       "            TRAPPIST-1e    False    1107\n",
       "                           True       56\n",
       "Mars        55 Cancri e    False     189\n",
       "            PSO J318.5-22  False      39\n",
       "                           True        8\n",
       "            TRAPPIST-1e    False    1383\n",
       "                           True       55\n",
       "Name: VIP, dtype: int64"
      ]
     },
     "execution_count": 196,
     "metadata": {},
     "output_type": "execute_result"
    }
   ],
   "source": [
    "df.groupby(['HomePlanet', 'Destination']).VIP.value_counts()"
   ]
  },
  {
   "cell_type": "code",
   "execution_count": null,
   "metadata": {},
   "outputs": [],
   "source": [
    "df.groupby('VIP').Age.min()"
   ]
  },
  {
   "attachments": {},
   "cell_type": "markdown",
   "metadata": {},
   "source": [
    "On remarque ici que Il n'y a aucun VIP qui viennent de Earth\n",
    "Il n'y a pas de vip de Mars vers Cancri\n",
    "Que le plus jeune VIP a 18 ans \n"
   ]
  },
  {
   "cell_type": "code",
   "execution_count": null,
   "metadata": {},
   "outputs": [],
   "source": [
    "# We know that the youngest VIP is 18 years old\n",
    "df.loc[(df.VIP.isna() & (df.Age < 18)), 'VIP'] = False"
   ]
  },
  {
   "cell_type": "code",
   "execution_count": null,
   "metadata": {},
   "outputs": [],
   "source": [
    "# We know that there are no VIP's comming from earth\n",
    "df.loc[(df.VIP.isna() & (df.HomePlanet == 'Earth')), 'VIP'] = False\n",
    "\n",
    "# We know that there are no VIP's comming Mars and going to Cancri\n",
    "df.loc[(df.VIP.isna() \n",
    "        & (df.HomePlanet.eq('Mars'))\n",
    "        & (df.Destination.eq('55 Cancri e'))), 'VIP'] = False"
   ]
  },
  {
   "cell_type": "code",
   "execution_count": null,
   "metadata": {},
   "outputs": [],
   "source": [
    "df[['Cabin_deck', 'Cabin_num', 'Cabin_side']] = df.Cabin.str.split(\"/\", expand=True)"
   ]
  },
  {
   "cell_type": "code",
   "execution_count": null,
   "metadata": {},
   "outputs": [],
   "source": [
    "df.groupby(['VIP', 'CryoSleep']).Deck.value_counts()"
   ]
  },
  {
   "attachments": {},
   "cell_type": "markdown",
   "metadata": {},
   "source": [
    "On remarque ici qu'il n'y a pas de VIP sur les deck G et T\n",
    "\n",
    "Les VIP qui sont en Cryosleep sont seulement sur les decks A, B, C, D"
   ]
  },
  {
   "cell_type": "code",
   "execution_count": null,
   "metadata": {},
   "outputs": [],
   "source": [
    "# We know that there are no VIP passengers on deck G and T\n",
    "df.loc[(df.VIP.isna() \n",
    "        & (df.Cabin_deck.isin(['G', 'T']))), 'VIP'] = False\n",
    "\n",
    "# We Know that people who are not on decks A to D and not in CryoSleep are VIP's\n",
    "df.loc[df.VIP.isna() \n",
    "       & df.CryoSleep.eq(False) \n",
    "       & ~df.Cabin_deck.isin(['A', 'B', 'C', 'D']), 'VIP'] = True\n",
    "\n",
    "\n",
    "#For the rest just put nan VIPs to false as probability is low to  be a vip\n",
    "df.loc[df.VIP.isna() , 'VIP'] = False"
   ]
  },
  {
   "cell_type": "code",
   "execution_count": null,
   "metadata": {},
   "outputs": [],
   "source": [
    "# The VIPs going to Cancri are just from Europa\n",
    "df.loc[(df.HomePlanet.isna() \n",
    "        & df.VIP.eq(True) \n",
    "        & df.Destination.eq('55 Cancri e')), 'HomePlanet'] = 'Europa'"
   ]
  },
  {
   "cell_type": "code",
   "execution_count": null,
   "metadata": {},
   "outputs": [],
   "source": [
    "# Impute HomePlanet based on previous distribution analysis\n",
    "df.loc[(df.HomePlanet.isna() \n",
    "        & df.Cabin_deck.isin(['T', 'A', 'B', 'C',])), 'HomePlanet'] = 'Europa'\n",
    "\n",
    "df.loc[(df.HomePlanet.isna() & df.Cabin_deck.eq('G')), 'HomePlanet'] = 'Earth'\n",
    "\n",
    "df.loc[(df.HomePlanet.isna() & df.Cabin_deck.eq('G')), 'HomePlanet'] = 'Earth'"
   ]
  },
  {
   "cell_type": "code",
   "execution_count": null,
   "metadata": {},
   "outputs": [
    {
     "data": {
      "text/plain": [
       "59      NaN\n",
       "186     NaN\n",
       "225     NaN\n",
       "291     NaN\n",
       "405     NaN\n",
       "       ... \n",
       "8489    NaN\n",
       "8515    NaN\n",
       "8613    NaN\n",
       "8666    NaN\n",
       "8674    NaN\n",
       "Name: HomePlanet, Length: 107, dtype: object"
      ]
     },
     "execution_count": 167,
     "metadata": {},
     "output_type": "execute_result"
    }
   ],
   "source": [
    "df.loc[df.HomePlanet.isna(), 'HomePlanet']"
   ]
  },
  {
   "cell_type": "code",
   "execution_count": null,
   "metadata": {},
   "outputs": [
    {
     "data": {
      "text/html": [
       "<div>\n",
       "<style scoped>\n",
       "    .dataframe tbody tr th:only-of-type {\n",
       "        vertical-align: middle;\n",
       "    }\n",
       "\n",
       "    .dataframe tbody tr th {\n",
       "        vertical-align: top;\n",
       "    }\n",
       "\n",
       "    .dataframe thead th {\n",
       "        text-align: right;\n",
       "    }\n",
       "</style>\n",
       "<table border=\"1\" class=\"dataframe\">\n",
       "  <thead>\n",
       "    <tr style=\"text-align: right;\">\n",
       "      <th></th>\n",
       "      <th>PassengerId</th>\n",
       "      <th>HomePlanet</th>\n",
       "      <th>CryoSleep</th>\n",
       "      <th>Cabin</th>\n",
       "      <th>Age</th>\n",
       "      <th>VIP</th>\n",
       "      <th>RoomService</th>\n",
       "      <th>FoodCourt</th>\n",
       "      <th>ShoppingMall</th>\n",
       "      <th>Spa</th>\n",
       "      <th>VRDeck</th>\n",
       "      <th>Name</th>\n",
       "      <th>Transported</th>\n",
       "      <th>Gold</th>\n",
       "      <th>Cabin_deck</th>\n",
       "      <th>Cabin_num</th>\n",
       "      <th>Cabin_side</th>\n",
       "    </tr>\n",
       "    <tr>\n",
       "      <th>Destination</th>\n",
       "      <th></th>\n",
       "      <th></th>\n",
       "      <th></th>\n",
       "      <th></th>\n",
       "      <th></th>\n",
       "      <th></th>\n",
       "      <th></th>\n",
       "      <th></th>\n",
       "      <th></th>\n",
       "      <th></th>\n",
       "      <th></th>\n",
       "      <th></th>\n",
       "      <th></th>\n",
       "      <th></th>\n",
       "      <th></th>\n",
       "      <th></th>\n",
       "      <th></th>\n",
       "    </tr>\n",
       "  </thead>\n",
       "  <tbody>\n",
       "    <tr>\n",
       "      <th>55 Cancri e</th>\n",
       "      <td>1800</td>\n",
       "      <td>1788</td>\n",
       "      <td>1800</td>\n",
       "      <td>1750</td>\n",
       "      <td>1766</td>\n",
       "      <td>1800</td>\n",
       "      <td>1800</td>\n",
       "      <td>1800</td>\n",
       "      <td>1800</td>\n",
       "      <td>1800</td>\n",
       "      <td>1800</td>\n",
       "      <td>1757</td>\n",
       "      <td>1800</td>\n",
       "      <td>1800</td>\n",
       "      <td>1750</td>\n",
       "      <td>1750</td>\n",
       "      <td>1750</td>\n",
       "    </tr>\n",
       "    <tr>\n",
       "      <th>PSO J318.5-22</th>\n",
       "      <td>796</td>\n",
       "      <td>790</td>\n",
       "      <td>796</td>\n",
       "      <td>778</td>\n",
       "      <td>782</td>\n",
       "      <td>796</td>\n",
       "      <td>796</td>\n",
       "      <td>796</td>\n",
       "      <td>796</td>\n",
       "      <td>796</td>\n",
       "      <td>796</td>\n",
       "      <td>779</td>\n",
       "      <td>796</td>\n",
       "      <td>796</td>\n",
       "      <td>778</td>\n",
       "      <td>778</td>\n",
       "      <td>778</td>\n",
       "    </tr>\n",
       "    <tr>\n",
       "      <th>TRAPPIST-1e</th>\n",
       "      <td>5915</td>\n",
       "      <td>5827</td>\n",
       "      <td>5915</td>\n",
       "      <td>5788</td>\n",
       "      <td>5787</td>\n",
       "      <td>5915</td>\n",
       "      <td>5915</td>\n",
       "      <td>5915</td>\n",
       "      <td>5915</td>\n",
       "      <td>5915</td>\n",
       "      <td>5915</td>\n",
       "      <td>5779</td>\n",
       "      <td>5915</td>\n",
       "      <td>5915</td>\n",
       "      <td>5788</td>\n",
       "      <td>5788</td>\n",
       "      <td>5788</td>\n",
       "    </tr>\n",
       "  </tbody>\n",
       "</table>\n",
       "</div>"
      ],
      "text/plain": [
       "               PassengerId  HomePlanet  CryoSleep  Cabin   Age   VIP  \\\n",
       "Destination                                                            \n",
       "55 Cancri e           1800        1788       1800   1750  1766  1800   \n",
       "PSO J318.5-22          796         790        796    778   782   796   \n",
       "TRAPPIST-1e           5915        5827       5915   5788  5787  5915   \n",
       "\n",
       "               RoomService  FoodCourt  ShoppingMall   Spa  VRDeck  Name  \\\n",
       "Destination                                                               \n",
       "55 Cancri e           1800       1800          1800  1800    1800  1757   \n",
       "PSO J318.5-22          796        796           796   796     796   779   \n",
       "TRAPPIST-1e           5915       5915          5915  5915    5915  5779   \n",
       "\n",
       "               Transported  Gold  Cabin_deck  Cabin_num  Cabin_side  \n",
       "Destination                                                          \n",
       "55 Cancri e           1800  1800        1750       1750        1750  \n",
       "PSO J318.5-22          796   796         778        778         778  \n",
       "TRAPPIST-1e           5915  5915        5788       5788        5788  "
      ]
     },
     "execution_count": 168,
     "metadata": {},
     "output_type": "execute_result"
    }
   ],
   "source": [
    "df.groupby('Destination').count()"
   ]
  },
  {
   "cell_type": "code",
   "execution_count": null,
   "metadata": {},
   "outputs": [],
   "source": [
    "# Impute median Age for people with VIP status\n",
    "df.loc[((df.VIP == True) & df.Age.isna()), 'Age'] = df.loc[(df.VIP == True), 'Age'].median()\n",
    "\n",
    "# Impute median Age for people that have expenses\n",
    "df.loc[(df.Age.isna() & df.Gold.gt(0)), 'Age'] = df.loc[df.Gold.gt(0), 'Age'].median()\n",
    "\n",
    "# Impute median Age for people with no expenses and not in CryoSleep\n",
    "df.loc[(df.Age.isna() & df.Gold.eq(0) & df.CryoSleep.eq(False)), 'Age'] = df.loc[(df.Gold.eq(0) & df.CryoSleep.eq(False)), 'Age'].median()\n",
    "\n",
    "# Impute an overall median Age for people not included in previous groups\n",
    "df.Age.fillna(df.Age.median(), inplace=True)"
   ]
  },
  {
   "cell_type": "code",
   "execution_count": null,
   "metadata": {},
   "outputs": [
    {
     "data": {
      "text/html": [
       "<div>\n",
       "<style scoped>\n",
       "    .dataframe tbody tr th:only-of-type {\n",
       "        vertical-align: middle;\n",
       "    }\n",
       "\n",
       "    .dataframe tbody tr th {\n",
       "        vertical-align: top;\n",
       "    }\n",
       "\n",
       "    .dataframe thead th {\n",
       "        text-align: right;\n",
       "    }\n",
       "</style>\n",
       "<table border=\"1\" class=\"dataframe\">\n",
       "  <thead>\n",
       "    <tr style=\"text-align: right;\">\n",
       "      <th></th>\n",
       "      <th>PassengerId</th>\n",
       "      <th>CryoSleep</th>\n",
       "      <th>Cabin</th>\n",
       "      <th>Destination</th>\n",
       "      <th>Age</th>\n",
       "      <th>VIP</th>\n",
       "      <th>RoomService</th>\n",
       "      <th>FoodCourt</th>\n",
       "      <th>ShoppingMall</th>\n",
       "      <th>Spa</th>\n",
       "      <th>VRDeck</th>\n",
       "      <th>Name</th>\n",
       "      <th>Transported</th>\n",
       "      <th>Gold</th>\n",
       "      <th>Cabin_deck</th>\n",
       "      <th>Cabin_num</th>\n",
       "      <th>Cabin_side</th>\n",
       "    </tr>\n",
       "    <tr>\n",
       "      <th>HomePlanet</th>\n",
       "      <th></th>\n",
       "      <th></th>\n",
       "      <th></th>\n",
       "      <th></th>\n",
       "      <th></th>\n",
       "      <th></th>\n",
       "      <th></th>\n",
       "      <th></th>\n",
       "      <th></th>\n",
       "      <th></th>\n",
       "      <th></th>\n",
       "      <th></th>\n",
       "      <th></th>\n",
       "      <th></th>\n",
       "      <th></th>\n",
       "      <th></th>\n",
       "      <th></th>\n",
       "    </tr>\n",
       "  </thead>\n",
       "  <tbody>\n",
       "    <tr>\n",
       "      <th>Earth</th>\n",
       "      <td>4663</td>\n",
       "      <td>4663</td>\n",
       "      <td>4568</td>\n",
       "      <td>4561</td>\n",
       "      <td>4663</td>\n",
       "      <td>4663</td>\n",
       "      <td>4663</td>\n",
       "      <td>4663</td>\n",
       "      <td>4663</td>\n",
       "      <td>4663</td>\n",
       "      <td>4663</td>\n",
       "      <td>4555</td>\n",
       "      <td>4663</td>\n",
       "      <td>4663</td>\n",
       "      <td>4568</td>\n",
       "      <td>4568</td>\n",
       "      <td>4568</td>\n",
       "    </tr>\n",
       "    <tr>\n",
       "      <th>Europa</th>\n",
       "      <td>2164</td>\n",
       "      <td>2164</td>\n",
       "      <td>2103</td>\n",
       "      <td>2127</td>\n",
       "      <td>2164</td>\n",
       "      <td>2164</td>\n",
       "      <td>2164</td>\n",
       "      <td>2164</td>\n",
       "      <td>2164</td>\n",
       "      <td>2164</td>\n",
       "      <td>2164</td>\n",
       "      <td>2118</td>\n",
       "      <td>2164</td>\n",
       "      <td>2164</td>\n",
       "      <td>2103</td>\n",
       "      <td>2103</td>\n",
       "      <td>2103</td>\n",
       "    </tr>\n",
       "    <tr>\n",
       "      <th>Mars</th>\n",
       "      <td>1759</td>\n",
       "      <td>1759</td>\n",
       "      <td>1722</td>\n",
       "      <td>1717</td>\n",
       "      <td>1759</td>\n",
       "      <td>1759</td>\n",
       "      <td>1759</td>\n",
       "      <td>1759</td>\n",
       "      <td>1759</td>\n",
       "      <td>1759</td>\n",
       "      <td>1759</td>\n",
       "      <td>1718</td>\n",
       "      <td>1759</td>\n",
       "      <td>1759</td>\n",
       "      <td>1722</td>\n",
       "      <td>1722</td>\n",
       "      <td>1722</td>\n",
       "    </tr>\n",
       "  </tbody>\n",
       "</table>\n",
       "</div>"
      ],
      "text/plain": [
       "            PassengerId  CryoSleep  Cabin  Destination   Age   VIP  \\\n",
       "HomePlanet                                                           \n",
       "Earth              4663       4663   4568         4561  4663  4663   \n",
       "Europa             2164       2164   2103         2127  2164  2164   \n",
       "Mars               1759       1759   1722         1717  1759  1759   \n",
       "\n",
       "            RoomService  FoodCourt  ShoppingMall   Spa  VRDeck  Name  \\\n",
       "HomePlanet                                                             \n",
       "Earth              4663       4663          4663  4663    4663  4555   \n",
       "Europa             2164       2164          2164  2164    2164  2118   \n",
       "Mars               1759       1759          1759  1759    1759  1718   \n",
       "\n",
       "            Transported  Gold  Cabin_deck  Cabin_num  Cabin_side  \n",
       "HomePlanet                                                        \n",
       "Earth              4663  4663        4568       4568        4568  \n",
       "Europa             2164  2164        2103       2103        2103  \n",
       "Mars               1759  1759        1722       1722        1722  "
      ]
     },
     "execution_count": 170,
     "metadata": {},
     "output_type": "execute_result"
    }
   ],
   "source": [
    "df.groupby('HomePlanet').count()"
   ]
  },
  {
   "cell_type": "code",
   "execution_count": null,
   "metadata": {},
   "outputs": [],
   "source": [
    "# We drop these variables to avoid overfitting of cabin num as it is not relevant\n",
    "df = df.drop(['PassengerId', 'Name','Cabin_num'], axis = 1)"
   ]
  },
  {
   "cell_type": "code",
   "execution_count": null,
   "metadata": {},
   "outputs": [],
   "source": [
    "# For the remaining missing values Of Home Planet we input the most likely planet of destination and home planet\n",
    "df.loc[df.HomePlanet.isna(),'HomePlanet']='Earth'\n",
    "df.loc[df.Destination.isna(),'Destination']='TRAPPIST-1e'"
   ]
  },
  {
   "cell_type": "code",
   "execution_count": null,
   "metadata": {},
   "outputs": [],
   "source": [
    "#Encodage One hot \n",
    "\n",
    "df['HomePlanet_Europa'] = df.apply(lambda x : 1 if x['HomePlanet'] == 'Europa' else 0 , axis= 1)\n",
    "df['HomePlanet_Earth'] = df.apply(lambda x : 1 if x['HomePlanet'] == 'Earth' else 0 , axis= 1)\n",
    "df['HomePlanet_Mars'] = df.apply(lambda x : 1 if x['HomePlanet'] == 'Mars' else 0 , axis= 1)\n",
    "df['Destination_TRAPPIST'] = df.apply(lambda x : 1 if x['Destination'] == 'TRAPPIST-1e' else 0 , axis= 1)\n",
    "df['Destination_55_Cancri'] = df.apply(lambda x : 1 if x['Destination'] == '55 Cancri e' else 0 , axis= 1)\n",
    "df['Destination_MPSO'] = df.apply(lambda x : 1 if x['Destination'] == 'PSO J318.5-22' else 0 , axis= 1)\n",
    "\n",
    "decks = ['A', 'B', 'C', 'D', 'E', 'F', 'G', 'T']\n",
    "\n",
    "#Ainsi ici on n'a pas trouvé de moyen de retrouver les cabins manquantes, on les mets donc toutes à 0 dans l'encodage One hot\n",
    "for deck in decks : \n",
    "    df[f'Cabin_deck{deck}'] = df.apply(lambda x: 1 if x['Cabin_deck'] == f'{deck}' else 0, axis = 1)\n"
   ]
  },
  {
   "cell_type": "code",
   "execution_count": null,
   "metadata": {},
   "outputs": [],
   "source": [
    "#Encodage one hot\n",
    "df['CryoSleep'] = LabelEncoder().fit_transform(df['CryoSleep'])\n",
    "df['VIP'] = LabelEncoder().fit_transform(df['VIP'])\n",
    "\n",
    "# 0 for side P and 1 for side S, if it is a missning value we put it to 0 for side P\n",
    "df['Cabin_side'] = LabelEncoder().fit_transform(df['Cabin_side'])"
   ]
  },
  {
   "cell_type": "code",
   "execution_count": null,
   "metadata": {},
   "outputs": [],
   "source": [
    "df = df.drop([ 'Destination', 'HomePlanet', 'Cabin', 'Cabin_deck', 'Transported'], axis = 1)"
   ]
  },
  {
   "cell_type": "code",
   "execution_count": null,
   "metadata": {},
   "outputs": [],
   "source": [
    "#We resume all our data treatment in this function\n",
    "\n",
    "def treating_data(data):\n",
    "    df=df = data.copy(deep=True)\n",
    "\n",
    "    #Taking care of the missing values in the amenities\n",
    "    col_list = ['RoomService', 'FoodCourt', 'ShoppingMall', 'VRDeck','Spa']\n",
    "    df.loc[df.CryoSleep.eq(True), col_list] = 0\n",
    "\n",
    "    zero_amenities = df[col_list].sum(axis=1).eq(0)\n",
    "    df.loc[zero_amenities, col_list] = 0\n",
    "\n",
    "    for i in col_list: \n",
    "        df.loc[df[i].isna(), i] = df.loc[df[i].gt(0), i].median()\n",
    "\n",
    "    df['Gold'] = df[col_list].sum(axis = 1)\n",
    "\n",
    "    #Taking care of people in Cryolseep\n",
    "\n",
    "    df.loc[(df.CryoSleep.isna() & df.Gold.gt(0)), 'CryoSleep']=False\n",
    "\n",
    "    df.loc[(df.CryoSleep.isna()& df.Gold==0),'CryoSleep']=fonct_cryo(np.random.random())\n",
    "\n",
    "    #Taking care of the VIP's\n",
    "\n",
    "    df.loc[(df.VIP.isna() & (df.Age < 18)), 'VIP'] = False\n",
    "\n",
    "    df.loc[(df.VIP.isna() & (df.HomePlanet == 'Earth')), 'VIP'] = False\n",
    "\n",
    "    df.loc[(df.VIP.isna() \n",
    "            & (df.HomePlanet.eq('Mars'))\n",
    "            & (df.Destination.eq('55 Cancri e'))), 'VIP'] = False\n",
    "    \n",
    "\n",
    "    df[['Cabin_deck', 'Cabin_num', 'Cabin_side']] = df.Cabin.str.split(\"/\", expand=True)\n",
    "\n",
    "    df.loc[(df.VIP.isna() \n",
    "        & (df.Cabin_deck.isin(['G', 'T']))), 'VIP'] = False\n",
    "\n",
    "    df.loc[df.VIP.isna() \n",
    "       & df.CryoSleep.eq(False) \n",
    "       & ~df.Cabin_deck.isin(['A', 'B', 'C', 'D']), 'VIP'] = True\n",
    "\n",
    "\n",
    "\n",
    "    df.loc[df.VIP.isna() , 'VIP'] = False\n",
    "\n",
    "\n",
    "    #Taking care of the Age\n",
    "    df.loc[((df.VIP == True) & df.Age.isna()), 'Age'] = df.loc[(df.VIP == True), 'Age'].median()\n",
    "\n",
    "    df.loc[(df.Age.isna() \n",
    "        & df.Gold.gt(0)), 'Age'] = df.loc[df.Gold.gt(0), 'Age'].median()\n",
    "\n",
    "    df.loc[(df.Age.isna() \n",
    "        & df.Gold.eq(0)\n",
    "        & df.CryoSleep.eq(False)), 'Age'] = df.loc[(df.Gold.eq(0) \n",
    "                                                    & df.CryoSleep.eq(False)), 'Age'].median()\n",
    "\n",
    "    df.Age.fillna(df.Age.median(), inplace=True)    \n",
    "\n",
    "    df = df.drop(['PassengerId', 'Name','Cabin_num'], axis = 1)\n",
    "\n",
    "    #Taking care of the HomePlanet and Destination\n",
    "\n",
    "    df.loc[(df.HomePlanet.isna() \n",
    "        & df.VIP.eq(True) \n",
    "        & df.Destination.eq('55 Cancri e')), 'HomePlanet'] = 'Europa'\n",
    "    \n",
    "    df.loc[(df.HomePlanet.isna() \n",
    "        & df.Cabin_deck.isin(['T', 'A', 'B', 'C',])), 'HomePlanet'] = 'Europa'\n",
    "\n",
    "    df.loc[(df.HomePlanet.isna() & df.Cabin_deck.eq('G')), 'HomePlanet'] = 'Earth'\n",
    "\n",
    "    df.loc[(df.HomePlanet.isna() & df.Cabin_deck.eq('G')), 'HomePlanet'] = 'Earth'\n",
    "\n",
    "    df.loc[df.HomePlanet.isna(),'HomePlanet']='Earth'\n",
    "    df.loc[df.Destination.isna(),'Destination']='TRAPPIST-1e'\n",
    "\n",
    "\n",
    "    #encodage One hot\n",
    "    df['HomePlanet_Europa'] = df.apply(lambda x : 1 if x['HomePlanet'] == 'Europa' else 0 , axis= 1)\n",
    "    df['HomePlanet_Earth'] = df.apply(lambda x : 1 if x['HomePlanet'] == 'Earth' else 0 , axis= 1)\n",
    "    df['HomePlanet_Mars'] = df.apply(lambda x : 1 if x['HomePlanet'] == 'Mars' else 0 , axis= 1)\n",
    "    df['Destination_TRAPPIST'] = df.apply(lambda x : 1 if x['Destination'] == 'TRAPPIST-1e' else 0 , axis= 1)\n",
    "    df['Destination_55_Cancri'] = df.apply(lambda x : 1 if x['Destination'] == '55 Cancri e' else 0 , axis= 1)\n",
    "    df['Destination_MPSO'] = df.apply(lambda x : 1 if x['Destination'] == 'PSO J318.5-22' else 0 , axis= 1)\n",
    "\n",
    "    decks = ['A', 'B', 'C', 'D', 'E', 'F', 'G', 'T']\n",
    "    for deck in decks : \n",
    "        df[f'Cabin_deck{deck}'] = df.apply(lambda x: 1 if x['Cabin_deck'] == f'{deck}' else 0, axis = 1)\n",
    "\n",
    "\n",
    "    df['CryoSleep'] = LabelEncoder().fit_transform(df['CryoSleep'])\n",
    "    df['VIP'] = LabelEncoder().fit_transform(df['VIP'])\n",
    "    df['Cabin_side'] = LabelEncoder().fit_transform(df['Cabin_side'])\n",
    "\n",
    "    df = df.drop([ 'Destination', 'HomePlanet', 'Cabin', 'Cabin_deck'], axis = 1)\n",
    "\n",
    "\n",
    "    return df"
   ]
  },
  {
   "attachments": {},
   "cell_type": "markdown",
   "metadata": {},
   "source": [
    "<h2 style=\"color:#f7ce5b; font-family: Arial, sans-serif; font-size: 40px; margin-top: 50px; border-bottom: 2px solid #f7ce5b;\">\n",
    "Train Test Split\n",
    "</h2>"
   ]
  },
  {
   "cell_type": "code",
   "execution_count": null,
   "metadata": {},
   "outputs": [],
   "source": [
    "X_train=treating_data(data_train)"
   ]
  },
  {
   "cell_type": "code",
   "execution_count": null,
   "metadata": {},
   "outputs": [],
   "source": [
    "Y_train=X_train['Transported']\n",
    "\n",
    "X_train=X_train.drop(['Transported'],axis=1)"
   ]
  },
  {
   "cell_type": "code",
   "execution_count": null,
   "metadata": {},
   "outputs": [],
   "source": [
    "X_test=treating_data(data_test)"
   ]
  },
  {
   "attachments": {},
   "cell_type": "markdown",
   "metadata": {},
   "source": [
    "<h2 style=\"color:#0039e6; font-family: Arial, sans-serif; font-size: 28px; text-align : center; margin-top: 50px; font-weight: normal;\">\n",
    "Gradient Boosting\n",
    "</h2> "
   ]
  },
  {
   "cell_type": "code",
   "execution_count": 194,
   "metadata": {},
   "outputs": [],
   "source": [
    "from sklearn.ensemble import GradientBoostingClassifier\n",
    "\n",
    "gb1 = GradientBoostingClassifier(n_estimators=100, learning_rate=0.1, random_state=0)\n",
    "\n",
    "\n",
    "gb1.fit(X_train, Y_train)\n",
    "\n",
    "\n",
    "Y_test_gradboost1=gb1.predict(X_test)\n",
    "\n",
    "\n",
    "df_gradboost1 = pd.DataFrame(data_test['PassengerId'])\n",
    "\n",
    "df_gradboost1 = df_gradboost1.assign(Transported=Y_test_gradboost1)\n",
    "\n",
    "df_gradboost1['Transported']=df_gradboost1['Transported'].replace([0,1],[False,True])\n",
    "# Enregistrer le DataFrame en CSV\n",
    "df_gradboost1.to_csv('test_spaceship_gradboost_personnal_cleaning.csv', index=False)\n",
    "\n",
    "#Avec ca on a un score de 0.80196"
   ]
  },
  {
   "attachments": {},
   "cell_type": "markdown",
   "metadata": {},
   "source": [
    "<h2 style=\"color:#0039e6; font-family: Arial, sans-serif; font-size: 28px; text-align : center; margin-top: 50px; font-weight: normal;\">\n",
    "Light Boost\n",
    "</h2>"
   ]
  },
  {
   "cell_type": "code",
   "execution_count": null,
   "metadata": {},
   "outputs": [],
   "source": [
    "import lightgbm as lgb\n",
    "from sklearn import datasets\n",
    "from sklearn import metrics\n",
    "\n",
    "lgb_train = lgb.Dataset(X_train, Y_train)\n",
    "\n",
    "params = {\n",
    "    'objective': 'binary',\n",
    "    'learning_rate' : 0.1,\n",
    "    'num_leaves': 4,\n",
    "    'verbose': 1\n",
    "} \n",
    "\n",
    "clf = lgb.LGBMClassifier()\n",
    "model_lgb = clf.fit(X_train, Y_train)\n",
    "\n",
    "res_lgb = model_lgb.predict(X_test)"
   ]
  },
  {
   "attachments": {},
   "cell_type": "markdown",
   "metadata": {},
   "source": [
    "<h2 style=\"color:#0039e6; font-family: Arial, sans-serif; font-size: 28px; text-align : center; margin-top: 50px; font-weight: normal;\">\n",
    "CatBoost\n",
    "</h2>"
   ]
  },
  {
   "cell_type": "code",
   "execution_count": null,
   "metadata": {},
   "outputs": [],
   "source": [
    "from catboost import CatBoostClassifier\n",
    "from sklearn.model_selection import RandomizedSearchCV\n",
    "\n",
    "X_train2 = X_train\n",
    "\n",
    "X_test2 = X_test\n",
    "\n",
    "Y_train2=Y_train\n",
    "\n",
    "\n",
    "mod=CatBoostClassifier(depth=6,\n",
    "                       iterations=600,\n",
    "                       learning_rate=0.0415,\n",
    "                       random_strength=9,\n",
    "                       l2_leaf_reg=7)\n",
    "mod.fit(X_train2,Y_train2)\n",
    "\n",
    "\n",
    "resultat=mod.predict(X_test2)\n",
    "\n",
    "parameters = {'learning_rate': np.random.uniform(0, 1),\n",
    "              'random_strength': np.random.randint(0, 10),\n",
    "              'iterations': np.random.randint(100, 1000),\n",
    "              'depth': np.random.randint(4, 10),\n",
    "              'l2_leaf_reg': np.random.randint(2, 10)\n",
    "              }\n",
    "\n",
    "\n",
    "randm_src = RandomizedSearchCV(estimator=mod, scoring='accuracy', param_distributions = parameters,\n",
    "                               cv = 2, n_iter = 10, n_jobs=-1)\n",
    "randm_src.fit(X_train2,Y_train2)\n",
    "\n",
    "print(\" Results from Random Search \" )\n",
    "print(\"\\n The best estimator across ALL searched params:\\n\", randm_src.bestestimator)\n",
    "print(\"\\n The best score across ALL searched params:\\n\", randm_src.bestscore)\n",
    "print(\"\\n The best parameters across ALL searched params:\\n\", randm_src.bestparams)"
   ]
  },
  {
   "attachments": {},
   "cell_type": "markdown",
   "metadata": {},
   "source": [
    "<h2 style=\"color:#0039e6; font-family: Arial, sans-serif; font-size: 28px; text-align : center; margin-top: 50px; font-weight: normal;\">\n",
    "Random Forest\n",
    "</h2> "
   ]
  },
  {
   "cell_type": "code",
   "execution_count": null,
   "metadata": {},
   "outputs": [],
   "source": [
    "import numpy as np\n",
    "import pandas as pd\n",
    "from sklearn.ensemble import RandomForestClassifier\n",
    "from sklearn.model_selection import train_test_split\n",
    "\n",
    "X_train1 = X_train\n",
    "\n",
    "X_test1 = X_test\n",
    "\n",
    "parametersRF = {'min_samples_split'    : np.random.randint(20,100),\n",
    "              'min_samples_leaf'       : np.random.randint(50,200),\n",
    "              'max_depth'              : np.random.randint(4, 10),\n",
    "              'max_features'           : np.random.randint(2, 7),\n",
    "              'n_estimators'           : np.random.randint(200, 1000),\n",
    "              'max_leaf_nodes'         : np.random.randint(50,250)\n",
    "                 }\n",
    "\n",
    "modele_rf = RandomForestClassifier(\n",
    "     n_estimators=140,\n",
    "     max_depth=5,\n",
    "     min_samples_split=50,\n",
    "     min_samples_leaf=250,\n",
    "     max_features='sqrt',\n",
    "     max_leaf_nodes=200,\n",
    "     max_samples=None,\n",
    "     bootstrap=True)\n",
    "\n",
    "randm_src = RandomizedSearchCV(estimator=modele_rf, scoring='accuracy', param_distributions = parametersRF,\n",
    "                               cv = 5, n_iter = 10, n_jobs=-1)\n",
    "randm_src.fit(X_train1,Y_train)\n",
    "\n",
    "print(\" Results from Random Search \" )\n",
    "print(\"\\n The best estimator across ALL searched params:\\n\", randm_src.best_estimator_)\n",
    "print(\"\\n The best score across ALL searched params:\\n\", randm_src.best_score_)\n",
    "print(\"\\n The best parameters across ALL searched params:\\n\", randm_src.best_params_)\n",
    "\n",
    "modele_rf.fit(X_train1, Y_train)\n",
    "\n",
    "pred=modele_rf.predict(X_test1)"
   ]
  },
  {
   "attachments": {},
   "cell_type": "markdown",
   "metadata": {},
   "source": [
    "<div style=\"background-image: linear-gradient(to right, #4b4cff , #00d4ff); text-align: center; padding: 50px;\">\n",
    "  <h1 style=\"font-family: 'Segoe UI', Tahoma, Geneva, Verdana, sans-serif; font-size: 48px; color: white; text-shadow: 2px 2px #4b4cff;\">\n",
    "  Submission\n",
    "  </h1>\n",
    "</div>"
   ]
  },
  {
   "cell_type": "code",
   "execution_count": 195,
   "metadata": {},
   "outputs": [
    {
     "data": {
      "text/plain": [
       "CryoSleep                0\n",
       "Age                      0\n",
       "VIP                      0\n",
       "RoomService              0\n",
       "FoodCourt                0\n",
       "ShoppingMall             0\n",
       "Spa                      0\n",
       "VRDeck                   0\n",
       "Gold                     0\n",
       "Cabin_side               0\n",
       "HomePlanet_Europa        0\n",
       "HomePlanet_Earth         0\n",
       "HomePlanet_Mars          0\n",
       "Destination_TRAPPIST     0\n",
       "Destination_55_Cancri    0\n",
       "Destination_MPSO         0\n",
       "Cabin_deckA              0\n",
       "Cabin_deckB              0\n",
       "Cabin_deckC              0\n",
       "Cabin_deckD              0\n",
       "Cabin_deckE              0\n",
       "Cabin_deckF              0\n",
       "Cabin_deckG              0\n",
       "Cabin_deckT              0\n",
       "dtype: int64"
      ]
     },
     "execution_count": 195,
     "metadata": {},
     "output_type": "execute_result"
    }
   ],
   "source": [
    "X_train.to_csv(\"trained_data.csv\", index= False)\n",
    "Y_train.to_csv(\"Y_trained_data.csv\", index= False)\n",
    "X_test.to_csv(\"test_for_trained_data.csv\", index= False)"
   ]
  }
 ],
 "metadata": {
  "kernelspec": {
   "display_name": "base",
   "language": "python",
   "name": "python3"
  },
  "language_info": {
   "codemirror_mode": {
    "name": "ipython",
    "version": 3
   },
   "file_extension": ".py",
   "mimetype": "text/x-python",
   "name": "python",
   "nbconvert_exporter": "python",
   "pygments_lexer": "ipython3",
   "version": "3.9.13"
  },
  "orig_nbformat": 4,
  "vscode": {
   "interpreter": {
    "hash": "32c6c37b8d79d5fc2727d02c87600208c714d784027224dbe326d5540933266f"
   }
  }
 },
 "nbformat": 4,
 "nbformat_minor": 2
}
